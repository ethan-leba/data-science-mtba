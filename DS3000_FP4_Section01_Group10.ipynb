{
 "cells": [
  {
   "cell_type": "markdown",
   "metadata": {},
   "source": [
    "<center> <h2> DS 3000 - Fall 2019</h2> </center>\n",
    "<center> <h3> DS Report </h3> </center>\n"
   ]
  },
  {
   "cell_type": "markdown",
   "metadata": {},
   "source": [
    "<center> <h1>Analyzing the performance of the MBTA</h1> </center>\n",
    "<center><h4>Lei, Dan, and Ethan</h4></center>\n"
   ]
  },
  {
   "cell_type": "markdown",
   "metadata": {},
   "source": [
    "  "
   ]
  },
  {
   "cell_type": "markdown",
   "metadata": {},
   "source": [
    "<hr style=\"height:2px; border:none; color:black; background-color:black;\">"
   ]
  },
  {
   "cell_type": "markdown",
   "metadata": {},
   "source": [
    "#### Executive Summary:\n",
    "\n",
    "This project is an analysis of the MBTA and how the  \n"
   ]
  },
  {
   "cell_type": "markdown",
   "metadata": {},
   "source": [
    "<hr style=\"height:2px; border:none; color:black; background-color:black;\">"
   ]
  },
  {
   "cell_type": "markdown",
   "metadata": {},
   "source": [
    "## Outline\n",
    "1. <a href='#1'>INTRODUCTION</a>\n",
    "2. <a href='#2'>METHOD</a>\n",
    "3. <a href='#3'>RESULTS</a>\n",
    "4. <a href='#4'>DISCUSSION</a>"
   ]
  },
  {
   "cell_type": "markdown",
   "metadata": {},
   "source": [
    "<a id=\"1\"></a>\n",
    "<hr style=\"height:2px; border:none; color:black; background-color:black;\">"
   ]
  },
  {
   "cell_type": "markdown",
   "metadata": {},
   "source": [
    "## 1. INTRODUCTION (Ethan)"
   ]
  },
  {
   "cell_type": "markdown",
   "metadata": {},
   "source": [
    "In this section, orient your readers to your project. You've already written some of these in previous deliverables. Based on your final analysis, revise your problem statement and write a concise introduction section. This section should touch upon the following points, but should be written in full paragraphs. Your writing should incorporate all of these points (and more if you like) in a coherent way. Remember that you are trying to convince your readers that this is an important problem to tackle. \n",
    "\n",
    "Problem Statement\n",
    "* Describe the problem you would like to tackle. \n",
    "* What is the topic of your project? \n",
    "* What do you want to learn about it?\n",
    "\n",
    "Significance of the Problem\n",
    "* Why is it important to tackle this problem in your project?\n",
    "* In what ways could the insights from this project be useful?\n",
    "* Has there been previous work on your topic? Do some research into your topic. Cite your sources appropriately. You can use the numbered reference format or APA (if you are more comfortable with it).\n",
    "\n",
    "Questions/Hypothesis\n",
    "* End this section with a list of questions and hypotheses\n",
    "* You should tie these questions/hypotheses to the problem statement and its significance\n",
    "    * e.g. Given the aforementioned problem and its importance, we set out to tackle the following questions:\n",
    "    \n",
    "**Requirement:**\n",
    "* You should have at least one question tapping into the comparison of various machine learning algorithms in predicting your target variable from your features variables."
   ]
  },
  {
   "cell_type": "markdown",
   "metadata": {},
   "source": [
    "The MBTA is a very old public transport system, and as a result of that age, some cracks have begun to show. Public transit is a very important service for many commuters who do not own cars, and because of that, improving public transit can make a direct improvement on many people’s lives. For our project, we want to take a look at what exactly the flaws are in the train system, and what can be done to fix it. Since our datasets include information about wait times, ridership count, rider satisfaction, and many specifics about the train lines themselves, we will do this by examining how these factors affect the overall satisfaction with the MBTA, and how different train lines vary in their quality.\n",
    "\n",
    "\n",
    "The questions we have formulated regarding are dataset are as follows:\n",
    "* Which trains have a significant difference in average arrival delays?\n",
    "* How does customer satisfaction vary with the number of riders, and type of transport? (and assuming it is affected by those, What could we suggest for the MBTA to do to increase satisfaction?)\n",
    "* How does the MBTA fare increase affect customer satisfaction and ridership?\n",
    "\n",
    "The hypotheses we have formulated regarding are dataset are as follows:\n",
    "* Long arrival delays negatively affect customer satisfaction.\n",
    "* Congestion negatively affect customer satisfaction.\n",
    "* Increased MBTA fare lowers the ridership.\n",
    "* Data Analysis Plan\n",
    "\n",
    "Based on our variables, we were hoping to see and possibly predict where some problematic areas of the MBTA system may be. One of the key areas we were hoping to investigate would be the wait times and to see how they have been changing over time. This coupled with customer satisfaction and fare rate could help us determine which areas are prime targets for upgrade/fixes in the future. Based off of that, we could also see if a price change would be needed in the near future by observing how drastic of a change in customer satisfaction is predicted by our model. \n",
    "We believe that machine learning could prove helpful when conducting our analysis. By using clustering techniques, we could if any train lines are particularly problematic and to see if we need to focus our analysis there. Using regression techniques, we could attempt to predict future problems that may not be easily observed using traditional statistical analysis. \n"
   ]
  },
  {
   "cell_type": "markdown",
   "metadata": {},
   "source": [
    "<a id=\"2\"></a>\n",
    "<hr style=\"height:2px; border:none; color:black; background-color:black;\">"
   ]
  },
  {
   "cell_type": "markdown",
   "metadata": {},
   "source": [
    "## 2. METHOD"
   ]
  },
  {
   "cell_type": "markdown",
   "metadata": {},
   "source": [
    "### 2.1. Data Acquisition (Ethan)\n",
    "\n",
    "* Describe where you obtained your data. Provide a link to the original source. \n",
    "* If you scraped your data, include your code as a script file.\n",
    "* Your data should be stored in an online repository (e.g., GitHub) and your code should retrieve your data from that online resource. You can read csv files from the Web in the same way that you read files from local drive.\n",
    "* Describe the dataset and variables. What do variables represent?\n"
   ]
  },
  {
   "cell_type": "markdown",
   "metadata": {},
   "source": [
    "All the data for project comes from this website: https://mbtabackontrack.com/performance/#/download. It contains a large amount of data concerning the MBTA that is updated on a monthly basis.\n",
    "#### Weekly Ridership\n",
    "This dataset holds information on how many riders took the MBTA on a given week.\n",
    "\n",
    "**Variable name in file**|**Description**\n",
    ":-----:|:-----:\n",
    "Date|Date for which month of the data recorded\n",
    "Mode|The type of the MBTA\n",
    "Ridership|Number of trips of passengers in the MBTA system for the specific period\n",
    "CountOfDates|The number of weekdays in this month\n",
    "Avg\\_Ridership|Average Ridership per weekday\n",
    "Route of Line|Specific line of the MBTA\n",
    "\n",
    "#### Ontime Performance\n",
    "This dataset provides information about how reliable a commuter service was for a given week.\n",
    "\n",
    "**Variable Name in File**|**Description**\n",
    ":-----:|:-----:\n",
    "gtfs\\_route\\_id|The id for the transport.\n",
    "gtfs\\_route\\_short\\_name|The short name for the route\n",
    "gtfs\\_route\\_long\\_name|The full name of the route: (Red Line, Green Line, Framingham/Worcester Line, etc)\n",
    "gtfs\\_route\\_desc|The type of transport: (Bus, Subway, Commuter Rail). Also differentiates between local buses, express buses, and key bus routes.\n",
    "route\\_category|Either displays the name of the subway line, if the bus is key or not, or nothing in the case of commuter rails.\n",
    "mode\\_type|The type of transport: The type of transport: (Bus, Subway, Commuter Rail). Does not differentiate between types of buses.\n",
    "service\\_date|The day that the reliability was measured.\n",
    "peak\\_offpeak\\_ind|Whether the service was peak or off-peak.\n",
    "metric\\_type|The metric which reliability was measured for the transport type. Each have slightly different ways of measuring reliability.\n",
    "otp\\_numerator|The numerator of the On-Time Percentage.\n",
    "otp\\_denominator|The denominator of the On-Time Percentage.\n",
    "\n",
    "#### Rider Satisfaction\n",
    "This dataset provides data on a monthly survey conducted by the MBTA, gauging the satisfaction of the riders of MBTA regarding specific and general parts of the MBTA.\n",
    "\n",
    "**Variable Name in File**|**Description**\n",
    ":-----:|:-----:\n",
    "survey_id|The id of the row\n",
    "survey_date|The date that the survey was conducted (Usually the first day of the month)\n",
    "survey_name|The name of the survey\n",
    "question_description|The question being asked\n",
    "response_total|The amount of responses received\n",
    "response_x_text|The text of response for a multiple-choice answer\n",
    "response_x_percent|The percent of participants that chose this response"
   ]
  },
  {
   "cell_type": "markdown",
   "metadata": {},
   "source": [
    "### 2.2. Variables (Lei / Dan)\n",
    "* If you are testing hypotheses, what are your IVs and DVs?\n",
    "* For your predictive models, what are your features and target variables?\n",
    "\n",
    "For the first hypothesis, IV is long arrival delays which is represented with reliability of the trains as well as DV is customer satisfaction which is represented as the score from wait time at stop and overall rating of MBTA. Then in the second hypothesis, IV is cogestion which is showed as ridership of the trains. DV keeps the same as customer satisfaction but it's represented with vehicle crowdedness from questionnaire from customer surveys. For the last hypothesis we have, IV is the increased MBTA fare and the DV is ridership."
   ]
  },
  {
   "cell_type": "markdown",
   "metadata": {},
   "source": [
    "### 2.3. Data Analysis (Dan)\n",
    "* Specifically describe your predictive model. What outcome variable are you going to predict from what feature variables?\n",
    "* Describe whether this is a supervised or unsupervised learning problem. Also identify the sub-category of the learning task (e.g. classification).\n",
    "* What machine learning algorithms are you going to use? Why?"
   ]
  },
  {
   "cell_type": "markdown",
   "metadata": {},
   "source": [
    "<a id=\"3\"></a>\n",
    "<hr style=\"height:2px; border:none; color:black; background-color:black;\">"
   ]
  },
  {
   "cell_type": "markdown",
   "metadata": {},
   "source": [
    "## 3. RESULTS"
   ]
  },
  {
   "cell_type": "markdown",
   "metadata": {},
   "source": [
    "### 3.1. Data Wrangling (Ethan)\n",
    "* Perform simple data cleaning (delete extra columns, deal with NA values, etc.)\n",
    "* Perform data wrangling to extract your features and target values (e.g., grouping your dataframe by columns, applying functions to format dataframes, etc.)\n",
    "* Preprocess your variables (e.g., scaling/transforming feature variables to normalize them)\n",
    "* Feature extraction (dummy variables, new features from existing features, etc.)\n",
    "* Use one feature selection technique to select a subset of your original features\n"
   ]
  },
  {
   "cell_type": "code",
   "execution_count": 2,
   "metadata": {},
   "outputs": [],
   "source": [
    "import pandas as pd"
   ]
  },
  {
   "cell_type": "code",
   "execution_count": 3,
   "metadata": {},
   "outputs": [],
   "source": [
    "# Returns a DataFrame with statistics about the reliability of a transport service.\n",
    "def get_reliability_df():\n",
    "    df = pd.read_csv(\"https://raw.githubusercontent.com/ethan-leba/data-science-mtba/master/resources/combined_ontime_performance.csv\")\n",
    "    \n",
    "    # Filter out rows not concerning the trains as we are not analyzing this data\n",
    "    df = df[df['mode_type'] == 'Rail']\n",
    "    \n",
    "    # Create a reliability percentage row\n",
    "    df['pct_reliability'] = df['otp_numerator'] / df['otp_denominator']\n",
    "    \n",
    "    # Remove extraneous columns\n",
    "    df = df[['gtfs_route_id', 'service_date', 'pct_reliability']]\n",
    "    \n",
    "    # Rename columns\n",
    "    df = df.rename(columns={'gtfs_route_id':'train_line'})\n",
    "    \n",
    "    return df"
   ]
  },
  {
   "cell_type": "code",
   "execution_count": 4,
   "metadata": {},
   "outputs": [],
   "source": [
    "# Returns a DataFrame with statistics about the rider's satisfaction with the MBTA.\n",
    "def get_rider_satisfaction_df():\n",
    "    # The CSV file contains 7 categories of satisfaction, ranging from\n",
    "    # Extremely dissatisfied to extremely satisfied, and a percentage of \n",
    "    # responses for each answer. To make analysis easier to conduct, we are\n",
    "    # converting these columns in a score ranging from 1 to 7 of satisfaction.\n",
    "    def response_to_num(df, amt):\n",
    "        pct = df.copy()[\"response_1_percent\"]\n",
    "        for x in range(2,amt):\n",
    "            pct += df[f\"response_{x}_percent\"] * x \n",
    "        return pct\n",
    "    \n",
    "    df = pd.read_csv(\"https://raw.githubusercontent.com/ethan-leba/data-science-mtba/master/resources/combined_rider_satisfaction.csv\")\n",
    "    \n",
    "    # Drop rows with N/A values\n",
    "    df = df.dropna()\n",
    "    \n",
    "    # Sets the percentage row\n",
    "    df['satisfaction_score'] = response_to_num(df, 7)\n",
    "    \n",
    "    # Remove extraneous columns\n",
    "    df = df[['survey_date', 'question_description', 'satisfaction_score']]\n",
    "    \n",
    "    return df"
   ]
  },
  {
   "cell_type": "code",
   "execution_count": 5,
   "metadata": {},
   "outputs": [],
   "source": [
    "# Returns a DataFrame with statistics about the amount of ridership a public transport service recieves.\n",
    "def get_weekly_ridership_df():\n",
    "    df = pd.read_csv(\"https://raw.githubusercontent.com/ethan-leba/data-science-mtba/master/resources/combined_weekly_ridership.csv\")\n",
    "    \n",
    "    # We are only looking at trains\n",
    "    df = df[df['MODE'] == 'Rail']\n",
    "    \n",
    "    # Remove extraneous columns\n",
    "    df = df[[\"date\", \"RIDERSHIP\", \"AVG_RIDERSHIP\", \"ROUTE_OR_LINE\"]]\n",
    "    \n",
    "    # Rename columns\n",
    "    df = df.rename(columns={\"RIDERSHIP\": 'ridership', \"AVG_RIDERSHIP\": 'avg_ridership', 'ROUTE_OR_LINE':'train_line'})\n",
    "    return df"
   ]
  },
  {
   "cell_type": "code",
   "execution_count": 6,
   "metadata": {},
   "outputs": [],
   "source": [
    "reliability_df = get_reliability_df()\n",
    "satisfaction_df = get_rider_satisfaction_df()\n",
    "ridership_df = get_weekly_ridership_df()"
   ]
  },
  {
   "cell_type": "code",
   "execution_count": 8,
   "metadata": {
    "scrolled": true
   },
   "outputs": [
    {
     "data": {
      "text/html": [
       "<div>\n",
       "<style scoped>\n",
       "    .dataframe tbody tr th:only-of-type {\n",
       "        vertical-align: middle;\n",
       "    }\n",
       "\n",
       "    .dataframe tbody tr th {\n",
       "        vertical-align: top;\n",
       "    }\n",
       "\n",
       "    .dataframe thead th {\n",
       "        text-align: right;\n",
       "    }\n",
       "</style>\n",
       "<table border=\"1\" class=\"dataframe\">\n",
       "  <thead>\n",
       "    <tr style=\"text-align: right;\">\n",
       "      <th></th>\n",
       "      <th>date</th>\n",
       "      <th>ridership</th>\n",
       "      <th>avg_ridership</th>\n",
       "      <th>train_line</th>\n",
       "    </tr>\n",
       "  </thead>\n",
       "  <tbody>\n",
       "    <tr>\n",
       "      <th>2</th>\n",
       "      <td>2018-03-01</td>\n",
       "      <td>1.439092e+06</td>\n",
       "      <td>65413.259469</td>\n",
       "      <td>Blue Line</td>\n",
       "    </tr>\n",
       "    <tr>\n",
       "      <th>3</th>\n",
       "      <td>2018-03-01</td>\n",
       "      <td>3.400249e+06</td>\n",
       "      <td>154556.756873</td>\n",
       "      <td>Green Line</td>\n",
       "    </tr>\n",
       "    <tr>\n",
       "      <th>4</th>\n",
       "      <td>2018-03-01</td>\n",
       "      <td>4.220321e+06</td>\n",
       "      <td>191832.785561</td>\n",
       "      <td>Orange Line</td>\n",
       "    </tr>\n",
       "    <tr>\n",
       "      <th>5</th>\n",
       "      <td>2018-03-01</td>\n",
       "      <td>5.013455e+06</td>\n",
       "      <td>227884.315413</td>\n",
       "      <td>Red Line</td>\n",
       "    </tr>\n",
       "    <tr>\n",
       "      <th>8</th>\n",
       "      <td>2018-02-01</td>\n",
       "      <td>1.321300e+06</td>\n",
       "      <td>69542.097748</td>\n",
       "      <td>Blue Line</td>\n",
       "    </tr>\n",
       "  </tbody>\n",
       "</table>\n",
       "</div>"
      ],
      "text/plain": [
       "         date     ridership  avg_ridership   train_line\n",
       "2  2018-03-01  1.439092e+06   65413.259469    Blue Line\n",
       "3  2018-03-01  3.400249e+06  154556.756873   Green Line\n",
       "4  2018-03-01  4.220321e+06  191832.785561  Orange Line\n",
       "5  2018-03-01  5.013455e+06  227884.315413     Red Line\n",
       "8  2018-02-01  1.321300e+06   69542.097748    Blue Line"
      ]
     },
     "execution_count": 8,
     "metadata": {},
     "output_type": "execute_result"
    }
   ],
   "source": [
    "ridership_df.head()"
   ]
  },
  {
   "cell_type": "code",
   "execution_count": 10,
   "metadata": {},
   "outputs": [
    {
     "data": {
      "text/html": [
       "<div>\n",
       "<style scoped>\n",
       "    .dataframe tbody tr th:only-of-type {\n",
       "        vertical-align: middle;\n",
       "    }\n",
       "\n",
       "    .dataframe tbody tr th {\n",
       "        vertical-align: top;\n",
       "    }\n",
       "\n",
       "    .dataframe thead th {\n",
       "        text-align: right;\n",
       "    }\n",
       "</style>\n",
       "<table border=\"1\" class=\"dataframe\">\n",
       "  <thead>\n",
       "    <tr style=\"text-align: right;\">\n",
       "      <th></th>\n",
       "      <th>survey_date</th>\n",
       "      <th>question_description</th>\n",
       "      <th>satisfaction_score</th>\n",
       "    </tr>\n",
       "  </thead>\n",
       "  <tbody>\n",
       "    <tr>\n",
       "      <th>0</th>\n",
       "      <td>2019-05-01</td>\n",
       "      <td>How would you rate your most recent trip?</td>\n",
       "      <td>4.0920</td>\n",
       "    </tr>\n",
       "    <tr>\n",
       "      <th>1</th>\n",
       "      <td>2019-05-01</td>\n",
       "      <td>How satisfied are you with the MBTA's communic...</td>\n",
       "      <td>4.0201</td>\n",
       "    </tr>\n",
       "    <tr>\n",
       "      <th>2</th>\n",
       "      <td>2019-05-01</td>\n",
       "      <td>How would you rate the mbta overall?</td>\n",
       "      <td>4.1225</td>\n",
       "    </tr>\n",
       "    <tr>\n",
       "      <th>3</th>\n",
       "      <td>2019-05-01</td>\n",
       "      <td>The mbta provides reliable public transportati...</td>\n",
       "      <td>3.7520</td>\n",
       "    </tr>\n",
       "    <tr>\n",
       "      <th>4</th>\n",
       "      <td>2018-01-01</td>\n",
       "      <td>How would you rate the mbta overall?</td>\n",
       "      <td>3.8013</td>\n",
       "    </tr>\n",
       "  </tbody>\n",
       "</table>\n",
       "</div>"
      ],
      "text/plain": [
       "  survey_date                               question_description  \\\n",
       "0  2019-05-01          How would you rate your most recent trip?   \n",
       "1  2019-05-01  How satisfied are you with the MBTA's communic...   \n",
       "2  2019-05-01               How would you rate the mbta overall?   \n",
       "3  2019-05-01  The mbta provides reliable public transportati...   \n",
       "4  2018-01-01               How would you rate the mbta overall?   \n",
       "\n",
       "   satisfaction_score  \n",
       "0              4.0920  \n",
       "1              4.0201  \n",
       "2              4.1225  \n",
       "3              3.7520  \n",
       "4              3.8013  "
      ]
     },
     "execution_count": 10,
     "metadata": {},
     "output_type": "execute_result"
    }
   ],
   "source": [
    "satisfaction_df.head()"
   ]
  },
  {
   "cell_type": "code",
   "execution_count": 33,
   "metadata": {},
   "outputs": [
    {
     "data": {
      "text/html": [
       "<div>\n",
       "<style scoped>\n",
       "    .dataframe tbody tr th:only-of-type {\n",
       "        vertical-align: middle;\n",
       "    }\n",
       "\n",
       "    .dataframe tbody tr th {\n",
       "        vertical-align: top;\n",
       "    }\n",
       "\n",
       "    .dataframe thead th {\n",
       "        text-align: right;\n",
       "    }\n",
       "</style>\n",
       "<table border=\"1\" class=\"dataframe\">\n",
       "  <thead>\n",
       "    <tr style=\"text-align: right;\">\n",
       "      <th></th>\n",
       "      <th>train_line</th>\n",
       "      <th>service_date</th>\n",
       "      <th>pct_reliability</th>\n",
       "    </tr>\n",
       "  </thead>\n",
       "  <tbody>\n",
       "    <tr>\n",
       "      <th>0</th>\n",
       "      <td>Red</td>\n",
       "      <td>2017-10-01</td>\n",
       "      <td>0.886728</td>\n",
       "    </tr>\n",
       "    <tr>\n",
       "      <th>1</th>\n",
       "      <td>Orange</td>\n",
       "      <td>2017-10-01</td>\n",
       "      <td>0.929751</td>\n",
       "    </tr>\n",
       "    <tr>\n",
       "      <th>2</th>\n",
       "      <td>Green-B</td>\n",
       "      <td>2017-10-01</td>\n",
       "      <td>0.738828</td>\n",
       "    </tr>\n",
       "    <tr>\n",
       "      <th>3</th>\n",
       "      <td>Green-C</td>\n",
       "      <td>2017-10-01</td>\n",
       "      <td>0.763832</td>\n",
       "    </tr>\n",
       "    <tr>\n",
       "      <th>4</th>\n",
       "      <td>Green-D</td>\n",
       "      <td>2017-10-01</td>\n",
       "      <td>0.808401</td>\n",
       "    </tr>\n",
       "  </tbody>\n",
       "</table>\n",
       "</div>"
      ],
      "text/plain": [
       "  train_line service_date  pct_reliability\n",
       "0        Red   2017-10-01         0.886728\n",
       "1     Orange   2017-10-01         0.929751\n",
       "2    Green-B   2017-10-01         0.738828\n",
       "3    Green-C   2017-10-01         0.763832\n",
       "4    Green-D   2017-10-01         0.808401"
      ]
     },
     "execution_count": 33,
     "metadata": {},
     "output_type": "execute_result"
    }
   ],
   "source": [
    "reliability_df.head()"
   ]
  },
  {
   "cell_type": "markdown",
   "metadata": {},
   "source": [
    "### 3.2. Data Exploration (Lei)\n",
    "* Generate appropriate data visualizations for your key variables identified in the previous section\n",
    "* You should have at least three visualizations (and at least two different visualization types)\n",
    "* For each visualization provide an explanation regarding the variables involved and an interpretation of the graph.\n",
    "* If you are using Plotly, insert your visualizations as images as well (upload the graph images to an online source, e.g. github, and link those in Jupyter Notebook)\n"
   ]
  },
  {
   "cell_type": "code",
   "execution_count": 1,
   "metadata": {},
   "outputs": [],
   "source": [
    "import matplotlib.pyplot as plt\n",
    "import pandas as pd\n",
    "import seaborn as sns"
   ]
  },
  {
   "cell_type": "markdown",
   "metadata": {},
   "source": [
    "#### This is visualizing the first hypothesis: Long arrival delays negatively affect customer satisfaction. \n",
    "Here, long arrival delays are represented with wait time at stop which has a scale from 0 (don't need to wait at all) to 5 (long delays). The reliability of the all lines is simplified as \"Ave_Month_RE_overall\" which is the average of all lines' reliability in a month.\n"
   ]
  },
  {
   "cell_type": "code",
   "execution_count": 8,
   "metadata": {},
   "outputs": [
    {
     "data": {
      "text/html": [
       "<div>\n",
       "<style scoped>\n",
       "    .dataframe tbody tr th:only-of-type {\n",
       "        vertical-align: middle;\n",
       "    }\n",
       "\n",
       "    .dataframe tbody tr th {\n",
       "        vertical-align: top;\n",
       "    }\n",
       "\n",
       "    .dataframe thead th {\n",
       "        text-align: right;\n",
       "    }\n",
       "</style>\n",
       "<table border=\"1\" class=\"dataframe\">\n",
       "  <thead>\n",
       "    <tr style=\"text-align: right;\">\n",
       "      <th></th>\n",
       "      <th>service_date</th>\n",
       "      <th>Ave_Month_RE_overall</th>\n",
       "      <th>How would you rate the mbta overall?</th>\n",
       "      <th>Wait time at stop</th>\n",
       "    </tr>\n",
       "  </thead>\n",
       "  <tbody>\n",
       "    <tr>\n",
       "      <td>0</td>\n",
       "      <td>2016-02</td>\n",
       "      <td>0.781771</td>\n",
       "      <td>4.1678</td>\n",
       "      <td>3.7348</td>\n",
       "    </tr>\n",
       "    <tr>\n",
       "      <td>1</td>\n",
       "      <td>2016-03</td>\n",
       "      <td>0.763396</td>\n",
       "      <td>4.1228</td>\n",
       "      <td>3.3900</td>\n",
       "    </tr>\n",
       "    <tr>\n",
       "      <td>2</td>\n",
       "      <td>2016-04</td>\n",
       "      <td>0.806854</td>\n",
       "      <td>4.4165</td>\n",
       "      <td>3.6777</td>\n",
       "    </tr>\n",
       "    <tr>\n",
       "      <td>3</td>\n",
       "      <td>2016-05</td>\n",
       "      <td>0.812263</td>\n",
       "      <td>4.3533</td>\n",
       "      <td>3.5577</td>\n",
       "    </tr>\n",
       "    <tr>\n",
       "      <td>4</td>\n",
       "      <td>2016-06</td>\n",
       "      <td>0.809461</td>\n",
       "      <td>4.1126</td>\n",
       "      <td>3.4028</td>\n",
       "    </tr>\n",
       "  </tbody>\n",
       "</table>\n",
       "</div>"
      ],
      "text/plain": [
       "  service_date  Ave_Month_RE_overall  How would you rate the mbta overall?  \\\n",
       "0      2016-02              0.781771                                4.1678   \n",
       "1      2016-03              0.763396                                4.1228   \n",
       "2      2016-04              0.806854                                4.4165   \n",
       "3      2016-05              0.812263                                4.3533   \n",
       "4      2016-06              0.809461                                4.1126   \n",
       "\n",
       "   Wait time at stop  \n",
       "0             3.7348  \n",
       "1             3.3900  \n",
       "2             3.6777  \n",
       "3             3.5577  \n",
       "4             3.4028  "
      ]
     },
     "execution_count": 8,
     "metadata": {},
     "output_type": "execute_result"
    }
   ],
   "source": [
    "df_1st = pd.read_csv(\"resources/reliability_satisfaction_combine.csv\")\n",
    "df_1st.head()"
   ]
  },
  {
   "cell_type": "code",
   "execution_count": 3,
   "metadata": {},
   "outputs": [
    {
     "data": {
      "text/plain": [
       "<matplotlib.axes._subplots.AxesSubplot at 0xa22fb1590>"
      ]
     },
     "execution_count": 3,
     "metadata": {},
     "output_type": "execute_result"
    },
    {
     "data": {
      "image/png": "[encoded data removed]",
      "text/plain": [
       "<Figure size 432x288 with 1 Axes>"
      ]
     },
     "metadata": {
      "needs_background": "light"
     },
     "output_type": "display_data"
    }
   ],
   "source": [
    "\n",
    "# create and display the scatter plot\n",
    "graph1 = sns.scatterplot(x=\"Ave_Month_RE_overall\", y=\"How would you rate the mbta overall?\", data = df_1st)\n",
    "\n",
    "#specify the title\n",
    "title = \"The relationship between Reliability and Overall rating\"\n",
    "\n",
    "#set the title of the plot\n",
    "graph1.set_title(title, size = 16)\n",
    "\n",
    "#add labels to the axes  \n",
    "graph1.set_xlabel(\"Ave_Month_RE_overall\", size = 16)\n",
    "graph1.set_ylabel(\"Overall rating\", size = 16)\n",
    "\n",
    "#add regestion line\n",
    "sns.regplot(x=\"Ave_Month_RE_overall\", y=\"How would you rate the mbta overall?\", data=df_1st)"
   ]
  },
  {
   "cell_type": "code",
   "execution_count": 4,
   "metadata": {},
   "outputs": [
    {
     "data": {
      "text/plain": [
       "<matplotlib.axes._subplots.AxesSubplot at 0x1a248a64d0>"
      ]
     },
     "execution_count": 4,
     "metadata": {},
     "output_type": "execute_result"
    },
    {
     "data": {
      "image/png": "[encoded data removed]",
      "text/plain": [
       "<Figure size 432x288 with 1 Axes>"
      ]
     },
     "metadata": {
      "needs_background": "light"
     },
     "output_type": "display_data"
    }
   ],
   "source": [
    "# create and display the scatter plot\n",
    "graph2 = sns.scatterplot(x=\"Ave_Month_RE_overall\", y=\"Wait time at stop\", data = df_1st)\n",
    "\n",
    "#specify the title\n",
    "title = \"The relationship between Reliability and Wait Time\"\n",
    "\n",
    "#set the title of the plot\n",
    "graph2.set_title(title, size = 16)\n",
    "\n",
    "#add labels to the axes  \n",
    "graph2.set_xlabel(\"Ave_Month_RE_overall\", size = 16)\n",
    "graph2.set_ylabel(\"Wait time at stop\", size = 16)\n",
    "\n",
    "#add regestion line\n",
    "sns.regplot(x=\"Ave_Month_RE_overall\", y=\"Wait time at stop\", data=df_1st)"
   ]
  },
  {
   "cell_type": "code",
   "execution_count": 5,
   "metadata": {},
   "outputs": [
    {
     "data": {
      "text/plain": [
       "Text(0, 0.5, 'Ave_Month_RE_overall')"
      ]
     },
     "execution_count": 5,
     "metadata": {},
     "output_type": "execute_result"
    },
    {
     "data": {
      "image/png": "[encoded data removed]",
      "text/plain": [
       "<Figure size 432x288 with 1 Axes>"
      ]
     },
     "metadata": {
      "needs_background": "light"
     },
     "output_type": "display_data"
    }
   ],
   "source": [
    "# create and display the scatter plot\n",
    "graph3 = sns.scatterplot(x=\"service_date\", y=\"Ave_Month_RE_overall\", \n",
    "                        data = df_1st)\n",
    "\n",
    "#specify the title\n",
    "title = \"The relationship between Reliability and Overall Time\"\n",
    "\n",
    "#set the title of the plot\n",
    "graph3.set_title(title, size = 16)\n",
    "\n",
    "#add labels to the axes  \n",
    "graph3.set_xlabel(\"Time\", size = 16)\n",
    "graph3.set_ylabel(\"Ave_Month_RE_overall\", size = 16)\n"
   ]
  },
  {
   "cell_type": "markdown",
   "metadata": {},
   "source": [
    "#### This is visualizing the second hypothesis: Congestion negatively affect customer satisfaction."
   ]
  },
  {
   "cell_type": "code",
   "execution_count": 9,
   "metadata": {},
   "outputs": [
    {
     "data": {
      "text/html": [
       "<div>\n",
       "<style scoped>\n",
       "    .dataframe tbody tr th:only-of-type {\n",
       "        vertical-align: middle;\n",
       "    }\n",
       "\n",
       "    .dataframe tbody tr th {\n",
       "        vertical-align: top;\n",
       "    }\n",
       "\n",
       "    .dataframe thead th {\n",
       "        text-align: right;\n",
       "    }\n",
       "</style>\n",
       "<table border=\"1\" class=\"dataframe\">\n",
       "  <thead>\n",
       "    <tr style=\"text-align: right;\">\n",
       "      <th></th>\n",
       "      <th>Unnamed: 0</th>\n",
       "      <th>date</th>\n",
       "      <th>ridership</th>\n",
       "      <th>train_line</th>\n",
       "      <th>Vehicle crowdedness</th>\n",
       "    </tr>\n",
       "  </thead>\n",
       "  <tbody>\n",
       "    <tr>\n",
       "      <td>0</td>\n",
       "      <td>1</td>\n",
       "      <td>2016-02-01</td>\n",
       "      <td>1.220639e+06</td>\n",
       "      <td>Blue Line</td>\n",
       "      <td>3.5872</td>\n",
       "    </tr>\n",
       "    <tr>\n",
       "      <td>1</td>\n",
       "      <td>2</td>\n",
       "      <td>2016-02-01</td>\n",
       "      <td>3.752289e+06</td>\n",
       "      <td>Green Line</td>\n",
       "      <td>3.5872</td>\n",
       "    </tr>\n",
       "    <tr>\n",
       "      <td>2</td>\n",
       "      <td>3</td>\n",
       "      <td>2016-02-01</td>\n",
       "      <td>4.379649e+06</td>\n",
       "      <td>Orange Line</td>\n",
       "      <td>3.5872</td>\n",
       "    </tr>\n",
       "    <tr>\n",
       "      <td>3</td>\n",
       "      <td>4</td>\n",
       "      <td>2016-02-01</td>\n",
       "      <td>5.132032e+06</td>\n",
       "      <td>Red Line</td>\n",
       "      <td>3.5872</td>\n",
       "    </tr>\n",
       "    <tr>\n",
       "      <td>4</td>\n",
       "      <td>5</td>\n",
       "      <td>2016-03-01</td>\n",
       "      <td>1.510118e+06</td>\n",
       "      <td>Blue Line</td>\n",
       "      <td>3.4033</td>\n",
       "    </tr>\n",
       "  </tbody>\n",
       "</table>\n",
       "</div>"
      ],
      "text/plain": [
       "   Unnamed: 0        date     ridership   train_line  Vehicle crowdedness\n",
       "0           1  2016-02-01  1.220639e+06    Blue Line               3.5872\n",
       "1           2  2016-02-01  3.752289e+06   Green Line               3.5872\n",
       "2           3  2016-02-01  4.379649e+06  Orange Line               3.5872\n",
       "3           4  2016-02-01  5.132032e+06     Red Line               3.5872\n",
       "4           5  2016-03-01  1.510118e+06    Blue Line               3.4033"
      ]
     },
     "execution_count": 9,
     "metadata": {},
     "output_type": "execute_result"
    }
   ],
   "source": [
    "df_2nd = pd.read_csv(\"resources/ridership_congestion_combine.csv\")\n",
    "df_2nd.head()"
   ]
  },
  {
   "cell_type": "code",
   "execution_count": 7,
   "metadata": {},
   "outputs": [
    {
     "data": {
      "text/plain": [
       "Text(0.5, 0, 'ridership')"
      ]
     },
     "execution_count": 7,
     "metadata": {},
     "output_type": "execute_result"
    },
    {
     "data": {
      "image/png": "[encoded data removed]",
      "text/plain": [
       "<Figure size 432x288 with 1 Axes>"
      ]
     },
     "metadata": {
      "needs_background": "light"
     },
     "output_type": "display_data"
    }
   ],
   "source": [
    "import seaborn as sns\n",
    "\n",
    "# create and display the line plot\n",
    "graph4 = sns.lineplot(x=\"ridership\", y=\"Vehicle crowdedness\", hue=\"train_line\", data = df_2nd\n",
    "                    , palette = [\"blue\", \"green\", \"orange\", \"red\"])\n",
    "\n",
    "#specify the title\n",
    "title = \"Ridership vs. Congestion\"\n",
    "\n",
    "#set the title of the plot\n",
    "graph4.set_title(title, size = 16)\n",
    "\n",
    "#add labels to the axes  \n",
    "graph4.set_xlabel(\"ridership\", size = 10)"
   ]
  },
  {
   "cell_type": "code",
   "execution_count": null,
   "metadata": {},
   "outputs": [],
   "source": []
  },
  {
   "cell_type": "code",
   "execution_count": null,
   "metadata": {},
   "outputs": [],
   "source": []
  },
  {
   "cell_type": "markdown",
   "metadata": {},
   "source": [
    "### 3.3. Model Construction (Dan)\n",
    "* If you proposed hypotheses, conduct your hypothesis tests\n",
    "* For your machine learning question(s), split data into training, validation, and testing sets (or use cross-validation)\n",
    "* Apply machine learning algorithms (apply at least three algorithms)\n",
    "* Train your algorithms"
   ]
  },
  {
   "cell_type": "code",
   "execution_count": 32,
   "metadata": {},
   "outputs": [
    {
     "data": {
      "text/html": [
       "<div>\n",
       "<style scoped>\n",
       "    .dataframe tbody tr th:only-of-type {\n",
       "        vertical-align: middle;\n",
       "    }\n",
       "\n",
       "    .dataframe tbody tr th {\n",
       "        vertical-align: top;\n",
       "    }\n",
       "\n",
       "    .dataframe thead th {\n",
       "        text-align: right;\n",
       "    }\n",
       "</style>\n",
       "<table border=\"1\" class=\"dataframe\">\n",
       "  <thead>\n",
       "    <tr style=\"text-align: right;\">\n",
       "      <th></th>\n",
       "      <th>train_line</th>\n",
       "      <th>date</th>\n",
       "      <th>pct_reliability</th>\n",
       "    </tr>\n",
       "  </thead>\n",
       "  <tbody>\n",
       "    <tr>\n",
       "      <th>9445</th>\n",
       "      <td>Blue</td>\n",
       "      <td>2016-01-01</td>\n",
       "      <td>0.931625</td>\n",
       "    </tr>\n",
       "    <tr>\n",
       "      <th>9444</th>\n",
       "      <td>Blue</td>\n",
       "      <td>2016-01-01</td>\n",
       "      <td>0.928211</td>\n",
       "    </tr>\n",
       "    <tr>\n",
       "      <th>9443</th>\n",
       "      <td>Green-E</td>\n",
       "      <td>2016-01-01</td>\n",
       "      <td>0.776051</td>\n",
       "    </tr>\n",
       "    <tr>\n",
       "      <th>9442</th>\n",
       "      <td>Green-E</td>\n",
       "      <td>2016-01-01</td>\n",
       "      <td>0.771313</td>\n",
       "    </tr>\n",
       "    <tr>\n",
       "      <th>9441</th>\n",
       "      <td>Green-D</td>\n",
       "      <td>2016-01-01</td>\n",
       "      <td>0.780110</td>\n",
       "    </tr>\n",
       "  </tbody>\n",
       "</table>\n",
       "</div>"
      ],
      "text/plain": [
       "     train_line        date  pct_reliability\n",
       "9445       Blue  2016-01-01         0.931625\n",
       "9444       Blue  2016-01-01         0.928211\n",
       "9443    Green-E  2016-01-01         0.776051\n",
       "9442    Green-E  2016-01-01         0.771313\n",
       "9441    Green-D  2016-01-01         0.780110"
      ]
     },
     "execution_count": 32,
     "metadata": {},
     "output_type": "execute_result"
    }
   ],
   "source": [
    "reliability_df.rename(columns={'service_date':'date'}, inplace=True)\n",
    "reliability_df.sort_values('date').head()"
   ]
  },
  {
   "cell_type": "code",
   "execution_count": 29,
   "metadata": {},
   "outputs": [
    {
     "data": {
      "text/html": [
       "<div>\n",
       "<style scoped>\n",
       "    .dataframe tbody tr th:only-of-type {\n",
       "        vertical-align: middle;\n",
       "    }\n",
       "\n",
       "    .dataframe tbody tr th {\n",
       "        vertical-align: top;\n",
       "    }\n",
       "\n",
       "    .dataframe thead th {\n",
       "        text-align: right;\n",
       "    }\n",
       "</style>\n",
       "<table border=\"1\" class=\"dataframe\">\n",
       "  <thead>\n",
       "    <tr style=\"text-align: right;\">\n",
       "      <th></th>\n",
       "      <th>date</th>\n",
       "      <th>question_description</th>\n",
       "      <th>satisfaction_score</th>\n",
       "    </tr>\n",
       "  </thead>\n",
       "  <tbody>\n",
       "    <tr>\n",
       "      <th>252</th>\n",
       "      <td>2016-02-01</td>\n",
       "      <td>Stop condition &amp;amp; cleanliness</td>\n",
       "      <td>4.2402</td>\n",
       "    </tr>\n",
       "    <tr>\n",
       "      <th>262</th>\n",
       "      <td>2016-02-01</td>\n",
       "      <td>T-alerts</td>\n",
       "      <td>4.0201</td>\n",
       "    </tr>\n",
       "    <tr>\n",
       "      <th>263</th>\n",
       "      <td>2016-02-01</td>\n",
       "      <td>Real-time mobile apps (e.g. nextbus)</td>\n",
       "      <td>4.0517</td>\n",
       "    </tr>\n",
       "    <tr>\n",
       "      <th>265</th>\n",
       "      <td>2016-02-01</td>\n",
       "      <td>How would you rate the mbta overall?</td>\n",
       "      <td>4.1678</td>\n",
       "    </tr>\n",
       "    <tr>\n",
       "      <th>266</th>\n",
       "      <td>2016-02-01</td>\n",
       "      <td>How would you rate your most recent trip?</td>\n",
       "      <td>4.1365</td>\n",
       "    </tr>\n",
       "  </tbody>\n",
       "</table>\n",
       "</div>"
      ],
      "text/plain": [
       "           date                       question_description  satisfaction_score\n",
       "252  2016-02-01           Stop condition &amp; cleanliness              4.2402\n",
       "262  2016-02-01                                   T-alerts              4.0201\n",
       "263  2016-02-01       Real-time mobile apps (e.g. nextbus)              4.0517\n",
       "265  2016-02-01       How would you rate the mbta overall?              4.1678\n",
       "266  2016-02-01  How would you rate your most recent trip?              4.1365"
      ]
     },
     "execution_count": 29,
     "metadata": {},
     "output_type": "execute_result"
    }
   ],
   "source": [
    "satisfaction_df.rename(columns={'survey_date':'date'}, inplace=True)\n",
    "satisfaction_df.sort_values('date').head()"
   ]
  },
  {
   "cell_type": "code",
   "execution_count": 35,
   "metadata": {},
   "outputs": [],
   "source": [
    "rel_satis_combined = pd.merge(reliability_df, satisfaction_df, on='date', how='inner')\n",
    "all_combined = pd.merge(rel_satis_combined, ridership_df, on='date', how='inner')\n",
    "all_combined.head()\n",
    "# all_combined.to_csv(\"all.csv\")"
   ]
  },
  {
   "cell_type": "code",
   "execution_count": null,
   "metadata": {},
   "outputs": [],
   "source": [
    "# df is the dataframe and target_column is the name of the column being targeted\n",
    "def features_and_target(df, target_column):\n",
    "    features = df.drop(target_column, axis = 1)\n",
    "    target = df[target_column]\n",
    "    return features, target\n"
   ]
  },
  {
   "cell_type": "code",
   "execution_count": null,
   "metadata": {},
   "outputs": [],
   "source": [
    "from sklearn.model_selection import train_test_split\n",
    "\n",
    "def split_the_dataset():\n",
    "    return train_test_split(features, target, random_state=3000)\n",
    "\n",
    "#X_train, X_test, y_train, y_test = split_the_dataset()"
   ]
  },
  {
   "cell_type": "code",
   "execution_count": null,
   "metadata": {},
   "outputs": [],
   "source": [
    "from sklearn.linear_model import LinearRegression, Lasso, Ridge \n",
    "from sklearn.neighbors import KNeighborsRegressor\n",
    "from sklearn.svm import SVR\n",
    "\n",
    "estimators = {\"Linear Regression\" : LinearRegression(),\n",
    "             \"Ridge\" : Ridge(),\n",
    "              \"Lasso\" : Lasso(),\n",
    "             \"k-Nearest Neighbor\": KNeighborsRegressor(),\n",
    "             \"Support Vector Machine\" : SVR(gamma=\"scale\")}"
   ]
  },
  {
   "cell_type": "code",
   "execution_count": null,
   "metadata": {},
   "outputs": [],
   "source": [
    "from sklearn.metrics import r2_score\n",
    "\n",
    "def regressors_percentage_split():\n",
    "    for estimator_name, estimator_object in estimators.items(): \n",
    "        # Fit the dataset\n",
    "        model = estimator_object.fit(X=X_train, y=y_train)\n",
    "        # Print the testing results\n",
    "        print(f\"{estimator_name}:\")\n",
    "        print(\"\\tR-squared value for training set: \", r2_score(y_train, model.predict(X_train)))\n",
    "        print(\"\\tR-squared value for testing set: \", r2_score(y_test, model.predict(X_test)))"
   ]
  },
  {
   "cell_type": "code",
   "execution_count": null,
   "metadata": {},
   "outputs": [],
   "source": [
    "regressors_percentage_split()"
   ]
  },
  {
   "cell_type": "markdown",
   "metadata": {},
   "source": [
    "### 3.4. Model Evaluation (Dan)\n",
    "* Evaluate the performance of your algorithms on appropriate evaluation metrics, using your validation set\n",
    "* Interpret your results from multiple models (and hypothesis tests, if any)"
   ]
  },
  {
   "cell_type": "markdown",
   "metadata": {},
   "source": [
    "### 3.5. Model Optimization (Dan)\n",
    "* Tune your models using appropriate hyperparameters\n",
    "* Explain why you are doing this (e.g., to avoid overfitting, etc.)"
   ]
  },
  {
   "cell_type": "code",
   "execution_count": null,
   "metadata": {},
   "outputs": [],
   "source": [
    "param_grid = {\"n_neighbors\":[1, 5, 10], \"metric\": [\"euclidean\", \"manhattan\", \"minkowski\"]}\n"
   ]
  },
  {
   "cell_type": "code",
   "execution_count": null,
   "metadata": {},
   "outputs": [],
   "source": [
    "from sklearn.model_selection import GridSearchCV\n",
    "from sklearn.neighbors import KNeighborsRegressor\n",
    "\n",
    "def grid_search_kNN():\n",
    "    \n",
    "    grid_search = GridSearchCV(KNeighborsRegressor(), param_grid, cv=5)\n",
    "    \n",
    "    grid_search.fit(X=X_train_selected, y=y_train) \n",
    "    \n",
    "    print(\"Best parameters: \", grid_search.best_params_)\n",
    "    \n",
    "    print(\"Training set score with best parameters: \", grid_search.best_score_)\n",
    "\n",
    "    print(\"Test set score with best parameters: \", grid_search.score(X_test_selected, y_test))\n",
    "\n"
   ]
  },
  {
   "cell_type": "code",
   "execution_count": null,
   "metadata": {},
   "outputs": [],
   "source": [
    "grid_search_kNN()"
   ]
  },
  {
   "cell_type": "markdown",
   "metadata": {},
   "source": [
    "### 3.6. Model Testing (Dan)\n",
    "* Test your tuned algorithms using your testing set"
   ]
  },
  {
   "cell_type": "markdown",
   "metadata": {},
   "source": [
    "<a id=\"4\"></a>\n",
    "<hr style=\"height:2px; border:none; color:black; background-color:black;\">"
   ]
  },
  {
   "cell_type": "markdown",
   "metadata": {},
   "source": [
    "## 4. DISCUSSION\n",
    "* Provide a summary of the steps you took to analyze your data and test your predictive model\n",
    "* Intepret your findings from 3.4., 3.5, and 3.6\n",
    "    * Which algorithms did you compare?\n",
    "    * Which algorithm(s) revealed best performance?\n",
    "    * Which algorithm(s) should be used for your predictive model?\n",
    "* If you tested hypotheses, interpret the results. What does it mean to have significant/non-significant differences with regards to your data?\n",
    "\n",
    "\n",
    "* End this section with a conclusion paragraph containing some pointers for future work \n",
    "    *(e.g., get more data, perform another analysis, etc.)"
   ]
  },
  {
   "cell_type": "markdown",
   "metadata": {},
   "source": [
    "<a id=\"5\"></a>\n",
    "<hr style=\"height:2px; border:none; color:black; background-color:black;\">"
   ]
  },
  {
   "cell_type": "markdown",
   "metadata": {},
   "source": [
    "### CONTRIBUTIONS\n",
    "* Describe each team member's contributions to the report (who did what in each section)\n",
    "* Remember this is a team effort!\n",
    "* Each member of your team will provide peer evaluation of other team members. Your final grade on the project will be based on those peer evaluations. "
   ]
  }
 ],
 "metadata": {
  "kernelspec": {
   "display_name": "Python 3",
   "language": "python",
   "name": "python3"
  },
  "language_info": {
   "codemirror_mode": {
    "name": "ipython",
    "version": 3
   },
   "file_extension": ".py",
   "mimetype": "text/x-python",
   "name": "python",
   "nbconvert_exporter": "python",
   "pygments_lexer": "ipython3",
   "version": "3.7.4"
  }
 },
 "nbformat": 4,
 "nbformat_minor": 2
}
